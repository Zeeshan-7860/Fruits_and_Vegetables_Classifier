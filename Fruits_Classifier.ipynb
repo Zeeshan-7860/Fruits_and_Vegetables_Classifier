{
  "nbformat": 4,
  "nbformat_minor": 0,
  "metadata": {
    "colab": {
      "provenance": []
    },
    "kernelspec": {
      "name": "python3",
      "display_name": "Python 3"
    },
    "language_info": {
      "name": "python"
    }
  },
  "cells": [
    {
      "cell_type": "code",
      "execution_count": null,
      "metadata": {
        "id": "JPwP0n6c8Yjq"
      },
      "outputs": [],
      "source": [
        "import tensorflow as tf\n",
        "\n",
        "from tensorflow.keras.preprocessing.image import ImageDataGenerator\n",
        "from tensorflow.keras.models import Sequential\n",
        "from tensorflow.keras.layers import Conv2D, MaxPooling2D, Flatten, Dense, Dropout\n",
        "from tensorflow.keras.optimizers import Adam\n",
        "from tensorflow.keras.preprocessing.image import ImageDataGenerator, load_img, img_to_array\n",
        "\n",
        "# Set up the paths to your dataset\n",
        "train_data_dir = 'fruits'\n",
        "\n",
        "# Constants\n",
        "img_width, img_height = 128, 128\n",
        "batch_size = 256\n",
        "num_epochs = 50\n",
        "num_classes = 10  # Change this to the number of classes in your dataset\n",
        "\n",
        "# Data augmentation for training set\n",
        "train_datagen = ImageDataGenerator(\n",
        "    rescale=1. / 255,\n",
        "    shear_range=0.2,\n",
        "    zoom_range=0.2,\n",
        "    horizontal_flip=True\n",
        ")\n",
        "\n",
        "\n",
        "\n",
        "# Load and augment training data\n",
        "train_generator = train_datagen.flow_from_directory(\n",
        "    train_data_dir,\n",
        "    target_size=(img_width, img_height),\n",
        "    batch_size=batch_size,\n",
        "    class_mode='categorical'\n",
        ")\n",
        "\n",
        "\n",
        "\n",
        "\n",
        "# Build the CNN model\n",
        "model = Sequential()\n",
        "model.add(Conv2D(32, (3, 3), input_shape=(img_width, img_height, 3), activation='relu'))\n",
        "model.add(MaxPooling2D(pool_size=(2, 2)))\n",
        "\n",
        "model.add(Conv2D(64, (3, 3), activation='relu'))\n",
        "model.add(MaxPooling2D(pool_size=(2, 2)))\n",
        "\n",
        "model.add(Conv2D(128, (3, 3), activation='relu'))\n",
        "model.add(MaxPooling2D(pool_size=(2, 2)))\n",
        "\n",
        "model.add(Flatten())\n",
        "model.add(Dense(256, activation='relu'))\n",
        "model.add(Dropout(0.5))\n",
        "model.add(Dense(num_classes, activation='softmax'))\n",
        "\n",
        "# Compile the model\n",
        "model.compile(loss='categorical_crossentropy', optimizer=Adam(learning_rate=0.001), metrics=['accuracy'])\n"
      ]
    },
    {
      "cell_type": "code",
      "source": [
        "# Train the model\n",
        "model.fit(\n",
        "    train_generator,\n",
        "    steps_per_epoch=train_generator.n // batch_size,\n",
        "    epochs=num_epochs\n",
        ")\n"
      ],
      "metadata": {
        "id": "jH3_kzmr8Zkw"
      },
      "execution_count": null,
      "outputs": []
    },
    {
      "cell_type": "code",
      "source": [
        "img_width, img_height = 128, 128  # Adjust this to your trained model's input size\n",
        "img_path = 'path to your picture'\n",
        "# Create a data generator with only rescaling\n",
        "data_generator = ImageDataGenerator(rescale=1. / 255)\n",
        "\n",
        "# Load and preprocess the new image\n",
        "img = load_img(img_path, target_size=(img_width, img_height))\n",
        "img_array = img_to_array(img)\n",
        "img_array = img_array.reshape((1, *img_array.shape))\n",
        "img_array = data_generator.standardize(img_array)"
      ],
      "metadata": {
        "id": "-8Yt6IMq8cPk"
      },
      "execution_count": null,
      "outputs": []
    },
    {
      "cell_type": "code",
      "source": [
        "predictions = model.predict(img_array)\n",
        "import numpy as np\n",
        "class_names = ['Apple','Avocado','Banana','Cherry','Kiwi','Mango','Orange','Pineapple','Strawberry','Watermelon']\n",
        "\n",
        "# Get the index of the class with the highest probability\n",
        "predicted_class_index = np.argmax(predictions)\n",
        "print(predicted_class_index)\n",
        "\n",
        "# Get the class name using the index\n",
        "predicted_class_name = class_names[predicted_class_index]\n",
        "\n",
        "print(\"Predicted class:\", predicted_class_name)"
      ],
      "metadata": {
        "id": "y0WJ7OPc8hLG"
      },
      "execution_count": null,
      "outputs": []
    }
  ]
}